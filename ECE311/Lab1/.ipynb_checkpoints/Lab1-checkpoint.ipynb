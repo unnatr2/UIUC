{
 "cells": [
  {
   "cell_type": "markdown",
   "metadata": {},
   "source": [
    "# ECE 311 Lab 1: Introduction to Python\n",
    "## Due Date: 9/10 @ 11:59PM on Compass\n",
    "\n",
    "Hello and welcome to ECE 311: Digital Signal Processing Lab! The main goals of this course are to:\n",
    "\n",
    "* Reinforce the concepts you learn in ECE 310.\n",
    "* Give you experience with Python, which is a popular programming language for work in signal processing, machine learning, and many other fields.\n",
    "* Demonstrate the applications of signal processing within and beyond the context of ECE 310. And hopefully encourage you to take more courses in Signal Processing!\n",
    "\n",
    "This first lab will serve as an introduction to Python and the scripting environment we will use throughout the class, Jupyter (or IPython) Notebooks. To be clear, **ECE 311 is not a programming class**! The students in ECE 311 have a wide range of programming experience, and we want the focus of the course to be on the fundamental tools and interesting applications of signal processing. With that said, we expect you to become more comfortable with Python as the semester goes on and hope you take the time to understand your code. In this lab, we will cover the basic syntax, data types, and a few more advanced techniques that are commonly used when programming in Python. Let's get started!"
   ]
  },
  {
   "cell_type": "markdown",
   "metadata": {},
   "source": [
    "## Importing Libraries\n",
    "\n",
    "Python is an object-oriented scripting language that is popular due to its ease of development and tremendous assortment of libraries. The environment we are working in is called a Jupyter Notebook. Each notebook is composed of a collection of code and markdown cells. Markdown cells are those like this one that show text and headings, while code cells execute Python code. In order to run a cell, simply click on the cell and press Ctrl+Enter, Shift+Enter, or the \"Play\" button on the toolbar. To add or remove cells, click on the \"Insert\" and \"Edit\" tabs in the toolbar, respectively. In the below code cell, we will import three common libraries: numpy (Numerical Python), skimage (Image Processing), matplotlib (implementation of popular MATLAB plotting functions), and a couple other helpful utilities. Go ahead and run the next cell."
   ]
  },
  {
   "cell_type": "code",
   "execution_count": null,
   "metadata": {},
   "outputs": [],
   "source": [
    "import numpy as np #rename the library to np for convenience\n",
    "import matplotlib.pyplot as plt #we want the \"pyplot\" module\n",
    "\n",
    "from IPython.display import Audio #listening to audio\n",
    "from skimage import io #image i/o\n",
    "from skimage import transform #image transformations\n",
    "from scipy.io import wavfile #audio i/o\n",
    "\n",
    "#allows plots to display in the notebook instead of another window\n",
    "%matplotlib inline"
   ]
  },
  {
   "cell_type": "markdown",
   "metadata": {
    "collapsed": true
   },
   "source": [
    "## Data Types and Control Structures\n",
    "\n",
    "### Primitive Data Types\n",
    "Now that we've imported some basic libraries, let's try creating variables to do simple math and printing. Python has \"dynamically-typed\" variables, which means the type of a variable is bound at runtime (i.e. when you run your code). In other words, unlike C or Java, we do not need to declare the types of our variables! This does not mean we should be reckless with creating our variables, but rather we have more flexbility."
   ]
  },
  {
   "cell_type": "code",
   "execution_count": null,
   "metadata": {},
   "outputs": [],
   "source": [
    "a = 10 #integer\n",
    "b = 5. #float\n",
    "c = 'signal processing is super cool! ->' #string\n",
    "d = True #boolean (True/False) data type\n",
    "e = 3 + 4.j #complex valued number\n",
    "\n",
    "add = a+b #addition\n",
    "sub = a-b #subtraction\n",
    "div = a/b #division\n",
    "mult = a*b #multiplication\n",
    "power = a**b #exponent\n",
    "\n",
    "print('Hello World!') #printing\n",
    "print('I must tell everyone that a+b is '+str(add)+'!') # '+' is used for string concatenation (connecting)\n",
    "print('And also that',c,d) # or comma separation can be used to print multiple variables\n",
    "print(type(a),type(b),type(c),type(d),type(e)) #check the type of some of our variables, this is great for debugging"
   ]
  },
  {
   "cell_type": "markdown",
   "metadata": {},
   "source": [
    "### Arrays, Lists, and Dictionaries\n",
    "\n",
    "Three of the most important data types in Python are (numpy) arrays, lists, and dictionaries. In the below code cell, we explore several ways to create and manipulate these data types. But first, let's discuss their differences. Arrays in Python are like the arrays you may be familiar with from C or C++. They are fixed-sized, ordered collections of variables. Unlike other languages however, numpy arrays can mix data types. In order to access an element in an array, we supply an index in square brackets. If we have a multidimensional array, like an image, we can supply two indices, where the first index is the row and the second index is the column of the array we would like to access. This means that numpy arrays are \"row major\". **It is best to separate these indices with a comma**. It is important to note that Python zero-indexes its objects. Therefore, if you want the very first element in your array, you should use index \"0\". We will use numpy arrays the most in this class since they interface seemlessly with all the libraries we use.\n",
    "\n",
    "Lists are similar to arrays except they do not have a fixed size upon instantiation. Below, you can see how the $\\textrm{append()}$ method allows us to place a new element at the end of a list. For those of you familiar with C++ or Java, lists are similar to vectors in these languages. It is common practice to create a list first to store data we do not know the size of, then typecast the list to a numpy array for convenience in later work. **This point is especially important! Take note of how we typecast from list to numpy array below.**\n",
    "\n",
    "Dictionaries are associative arrays that allow us to store key-value pairs together. Keys are like indices for lists and arrays, except they need not be integers! They can also be strings, floats, tuples, and more. Dictionaries are a great way to store information that is not necessarily ordered or should be referenced by more descriptive information than an integer index. We will not use dictionaries much in this class; however, an introduction to Python would be incomplete without discussing dictionaries.\n",
    "\n",
    "Run the below code cell and please play around with the syntax. See what works, see what breaks, try printing different variables you create."
   ]
  },
  {
   "cell_type": "code",
   "execution_count": null,
   "metadata": {},
   "outputs": [],
   "source": [
    "#Arrays\n",
    "arr0 = np.zeros(3) #make an array of zeros, \"np.zeros\" means we want the zeros() function in the numpy module\n",
    "arr1 = np.ones(3) #make an array of ones\n",
    "arr2 = np.array([1,2,3]) #typecasting a list to an array\n",
    "arr2d = np.array([[1,5],\n",
    "                  [2,3]])\n",
    "print(arr0)\n",
    "print(arr2d.shape) #arrays have shape, lists do not\n",
    "print(arr2d[1,1]) #can index numpy arrays with tuples as shown"
   ]
  },
  {
   "cell_type": "code",
   "execution_count": null,
   "metadata": {},
   "outputs": [],
   "source": [
    "#Lists\n",
    "x = [1,2,3] #simple 3-element list\n",
    "y = [[1,2,3],['banana','apple','orange']] #list of lists!\n",
    "print(x[0],x[1])\n",
    "print(x[-1]) #indices \"wrap around\", so we can also use negative indices\n",
    "print(y[0][0],y[1][2]) #indexing a list of lists\n",
    "print(len(x)) #len gives us the length of an array or list\n",
    "\n",
    "#appending to a list\n",
    "print(x)\n",
    "x.append(4)\n",
    "print(x)"
   ]
  },
  {
   "cell_type": "code",
   "execution_count": null,
   "metadata": {},
   "outputs": [],
   "source": [
    "#Dictionaries\n",
    "d = {} #empty dictionary\n",
    "d = {'Mechanical Engineering': '5/10', 'Chemical Engineering': '6/10',\n",
    "    'Electrical and Computer Engineering': '10/10', 'Computer Science': '-1/10'} #initialize some key-value pairs\n",
    "d['Signal Processing'] = '11/10' #add another key-value pair\n",
    "print(d['Electrical and Computer Engineering'])"
   ]
  },
  {
   "cell_type": "markdown",
   "metadata": {},
   "source": [
    "### Control Structures\n",
    "\n",
    "Now let's look at some control structures. Most of you should be familiar with \"if-else\" statements (conditional structures) and iterative structures like \"for\" and \"while\" loops. Still, let's do a quick review.\n",
    "\n",
    "If-else statements check if a (boolean) condition is true. **If** this condition is true, we execute the related code; **else** we execute different code. We can create a chain of if-else statements to try several conditions at a particular point in our code.\n",
    "\n",
    "For loops execute a segment of code as we go through a predetermined set of values for a variable. In Python, all for loops are created as **iterators**. This means we do not count from 0 to 10, for example, like in C. Instead, our iterating variable goes through a collection of values we give it. This may be confusing at first, but it is incredibly convenient, so don't get frustrated if it doesn't make sense immediately. We strongly suggest you play around with the below code examples if you want some practice.\n",
    "\n",
    "While loops, though we will use them infrequently, allow us to execute a piece of code until a condition is met. Be careful when using while loops to make sure the condition will be eventually met or overriden. Otherwise, your code will run forever!\n",
    "\n",
    "One last thing we should note is that Python is a white-space drive language. This means we do not use curly braces {} to indicate the scope of a control structure, instead we use indentation (tabs). Each of the examples below demonstrate how this tab-controlled scoping works. Try modifying and uncommenting parts of the code to make sure you understand how to write each control structure. **Helpful tip: you can comment and uncomment a section of code by highlighting multiple lines and typing Ctrl+/.**"
   ]
  },
  {
   "cell_type": "code",
   "execution_count": 1,
   "metadata": {},
   "outputs": [
    {
     "name": "stdout",
     "output_type": "stream",
     "text": [
      "Hooray!\n",
      "\n",
      "Signal Processing?\n",
      "Now we're talkin'!\n"
     ]
    }
   ],
   "source": [
    "#if-else\n",
    "\n",
    "a = 5\n",
    "if(a > 2): #note the colon to terminate the if statement\n",
    "    print('Hooray!\\n') #indentation for the if statement\n",
    "\n",
    "b = 'Signal Processing'\n",
    "\n",
    "print(b+'?')\n",
    "if(b == 'Power'): #double equals is for equality comparison\n",
    "    print('Eh. Not interesting.')\n",
    "elif(b == 'Circuits'): #note that \"else if\" is written as \"elif\"\n",
    "    print('Gross.')\n",
    "elif(b == 'Signal Processing'):\n",
    "    print(\"Now we're talkin'!\")\n",
    "else:\n",
    "    print('Pass.')"
   ]
  },
  {
   "cell_type": "code",
   "execution_count": 2,
   "metadata": {},
   "outputs": [
    {
     "name": "stdout",
     "output_type": "stream",
     "text": [
      "0\n",
      "1\n",
      "2\n",
      "1\n",
      "5\n",
      "9\n",
      "20\n",
      "\n"
     ]
    },
    {
     "ename": "NameError",
     "evalue": "name 'd' is not defined",
     "output_type": "error",
     "traceback": [
      "\u001b[0;31m---------------------------------------------------------------------------\u001b[0m",
      "\u001b[0;31mNameError\u001b[0m                                 Traceback (most recent call last)",
      "\u001b[0;32m<ipython-input-2-1059add46742>\u001b[0m in \u001b[0;36m<module>\u001b[0;34m\u001b[0m\n\u001b[1;32m     17\u001b[0m     \u001b[0mprint\u001b[0m\u001b[0;34m(\u001b[0m\u001b[0mi\u001b[0m\u001b[0;34m)\u001b[0m\u001b[0;34m\u001b[0m\u001b[0;34m\u001b[0m\u001b[0m\n\u001b[1;32m     18\u001b[0m \u001b[0mprint\u001b[0m\u001b[0;34m(\u001b[0m\u001b[0;34m''\u001b[0m\u001b[0;34m)\u001b[0m\u001b[0;34m\u001b[0m\u001b[0;34m\u001b[0m\u001b[0m\n\u001b[0;32m---> 19\u001b[0;31m \u001b[0;32mfor\u001b[0m \u001b[0mkey\u001b[0m \u001b[0;32min\u001b[0m \u001b[0md\u001b[0m\u001b[0;34m:\u001b[0m \u001b[0;31m#i will iterate through every key in the dictionary from the previous code cell\u001b[0m\u001b[0;34m\u001b[0m\u001b[0;34m\u001b[0m\u001b[0m\n\u001b[0m\u001b[1;32m     20\u001b[0m     \u001b[0;31m#print each key value pair\u001b[0m\u001b[0;34m\u001b[0m\u001b[0;34m\u001b[0m\u001b[0;34m\u001b[0m\u001b[0m\n\u001b[1;32m     21\u001b[0m     \u001b[0;31m#string formatting, similar to C/C++, convenient tool for printing\u001b[0m\u001b[0;34m\u001b[0m\u001b[0;34m\u001b[0m\u001b[0;34m\u001b[0m\u001b[0m\n",
      "\u001b[0;31mNameError\u001b[0m: name 'd' is not defined"
     ]
    }
   ],
   "source": [
    "#for\n",
    "\n",
    "#range is a function that gives us a list of numbers based on different arguments\n",
    "#try uncommenting each example to verify what it prints\n",
    "for i in range(3): #with one integer \"n\", we get every number from 0 to n-1, inclusive\n",
    "    print(i)\n",
    "\n",
    "#for i in range(1,4): #1,2,3\n",
    "    #print(i)\n",
    "    \n",
    "#for i in range(5,0,-1): #5,4,3,2,1\n",
    "    #print(i)\n",
    "    \n",
    "#can also iterate over lists, arrays and dictionaries\n",
    "a = [1,5,9,20]\n",
    "for i in a: #i will iterate through every value in a\n",
    "    print(i)\n",
    "print('')\n",
    "for key in d: #i will iterate through every key in the dictionary from the previous code cell\n",
    "    #print each key value pair\n",
    "    #string formatting, similar to C/C++, convenient tool for printing\n",
    "    #variables inside the .format() fill in the curly braces in order\n",
    "    print('{}: {}'.format(key, d[key]))\n",
    "print('')"
   ]
  },
  {
   "cell_type": "code",
   "execution_count": null,
   "metadata": {},
   "outputs": [],
   "source": [
    "#while\n",
    "j = 0\n",
    "while(j < 4):\n",
    "    print(j)\n",
    "    j += 1 #compound addition, equivalent to j = j+1"
   ]
  },
  {
   "cell_type": "markdown",
   "metadata": {},
   "source": [
    "## Exercise 1:\n",
    "\n",
    "a) Create a list of integers that represent your UIN. Use a for loop to iterate through and print every number in your UIN. Do not worry about making every number print on the same line: separate lines is fine.\n",
    "\n",
    "b) Create a dictionary with three key-value pairs that has music artists as keys and one of your favorite songs from them as the value. Or you could do actors and TV shows/movies. Use a for loop to print each key-value pair."
   ]
  },
  {
   "cell_type": "code",
   "execution_count": null,
   "metadata": {},
   "outputs": [],
   "source": [
    "#Code for 1.a) here.\n",
    "\n",
    "#Code for 1.b) here\n"
   ]
  },
  {
   "cell_type": "markdown",
   "metadata": {},
   "source": [
    "## List Comprehension and Other Techniques\n",
    "\n",
    "List comprehension is a popular and very efficient way to create lists. If you hear someone talk about \"Pythonic\" code practices, this is one of them. **Quick tip: if you find yourself coding in Python for an interview, definitely build lists via list comprehension if possible.** List comprehension is when we build a list \"in-line\". This means we initialize and populate the list all in one line. The below code presents toy examples, but when we start working with real signals like audio, images, etc. this can save lots of time and code. Furthermore, take note again how we typecast the list to a numpy array after constructing it.\n",
    "\n",
    "Array/list slicing and truth array indices are powerful techniques to extract collections of items from a list based on some conditions. Array slicing allows us to specify a range of indices we would like to extract from an array. Slices can indicate we want a specific segment, every element along a dimension, something like \"every other\" element, and more. The general format for array slicing can be one of the following:\n",
    "\n",
    "1. ``array[start:end]``\n",
    "2. ``array[start:end:step]``\n",
    "\n",
    "For now, we will start with the first option to extract a segment of an array (bonus: [this stackoverflow post](https://stackoverflow.com/questions/509211/understanding-slice-notation) provides a nice reference for each option). We use a colon (:) to separate the arguments in our slices, and it is important to note that the second argument (``end``) is always **non-inclusive**. This means ``array[2:4]`` will return the elements at index 2 and 3 only. Furthermore, we may slice multiple dimensions at a time. Examples of array slicing and some of these more advanced cases are given below.\n",
    "\n",
    "We can also build a Boolean array by \"asking\" a condition of the elements in the array. By placing that Boolean array as the index for our original array, we are able to automatically pull out the values we want! Don't worry if this is all too abstract right now. The following code should make it more concrete. And, as always, take some time to play around with the code. Taking the time now to familiarize yourself with these tools will save tons of time in the future."
   ]
  },
  {
   "cell_type": "code",
   "execution_count": null,
   "metadata": {},
   "outputs": [],
   "source": [
    "#List Comprehension\n",
    "a = np.array([i*2 for i in range(1,51)]) #create a list of the first 50 positive even numbers, then cast to array\n",
    "b = np.array([i-1 for i in a]) #create a list/array of the first 50 odd numbers from the 'a' list\n",
    "\n",
    "#Slicing\n",
    "first_5_even = a[:5] #0,2,4,6,8 (the zero at the beginning is inferred)\n",
    "print(first_5_even)\n",
    "after_30_even = a[30:] #take every element in 'a' from the index-30 element onward\n",
    "print(after_30_even)\n",
    "print('')\n",
    "\n",
    "#2D Slicing\n",
    "c = np.array([[1,2,3,4,5],[6,7,8,9,10],[11,12,13,14,15],[16,17,18,19,20]])\n",
    "print(c) #original 2D array\n",
    "print(c[1:3]) #print rows 1 and 2\n",
    "print(c[:,0]) #print every element in the 0 column, commas separate dimensions (rows and columns)\n",
    "print(c[0,:]) #print every element in the 0 row\n",
    "print('')\n",
    "\n",
    "#Truth array indices\n",
    "greater_50 = a > 50 #elements larger than 50\n",
    "perfect_squares = a % np.sqrt(a)  == 0 #perfect squares\n",
    "print(greater_50) #truth array\n",
    "print(perfect_squares)\n",
    "print(a[greater_50]) #show the actual entries in \"a\" that satisfy the above conditions\n",
    "print(a[perfect_squares])"
   ]
  },
  {
   "cell_type": "markdown",
   "metadata": {},
   "source": [
    "## Exercise 2:\n",
    "\n",
    "a) Using list comprehension, create an array of the first 100 multiples of 3 (including 0). Then, using array slicing, print the index 20 up to (but not including) index 30 multiples of three. To receive full points, your answer should be two lines (not including any print statements).\n",
    "\n",
    "b) Using list comprehension, create an array of the first 100 perfect cubes, i.e. 0,1,8,27... (including 0). Then, using a truth array as your indices, print the perfect cubes that are also divisible by 32. To receive full points your answer should be three lines. Don't forget to typecast your list to an array!"
   ]
  },
  {
   "cell_type": "code",
   "execution_count": null,
   "metadata": {},
   "outputs": [],
   "source": [
    "#Code for 2.a) here.\n",
    "\n",
    "#Code for 2.b) here.\n"
   ]
  },
  {
   "cell_type": "markdown",
   "metadata": {},
   "source": [
    "## Functions, Plotting, Loading Data"
   ]
  },
  {
   "cell_type": "markdown",
   "metadata": {},
   "source": [
    "Functions are an important part of any language that supports them. They allow us to encapsulate and modularize our code for repeated and flexible reuse. Rather than rewriting or copying the same code to perform a common task for us, we can just call our function. Below, we define two functions, sine and cosine, that return the values for sine and cosine given an array of input values and a desired linear analog frequency (Hz)."
   ]
  },
  {
   "cell_type": "code",
   "execution_count": null,
   "metadata": {},
   "outputs": [],
   "source": [
    "def sine(t,f):\n",
    "    return np.array([np.sin(2*np.pi*f*time) for time in t])\n",
    "\n",
    "def cosine(t,f):\n",
    "    return np.array([np.cos(2*np.pi*f*time) for time in t])\n",
    "\n",
    "t = np.linspace(0,5,1000) #1000 evenly spaced points from 0 to 5\n",
    "frequency = 2 #2 Hz frequency\n",
    "\n",
    "s = sine(t,frequency)\n",
    "c = cosine(t,frequency)"
   ]
  },
  {
   "cell_type": "markdown",
   "metadata": {},
   "source": [
    "Now that we have some signals, let's try plotting them. There are many plotting interfaces we will use in the matplotlib module. The below code cell will show a few of them. Take note of how we label the axes, title, and provide a legend for our plots. **You must always provide adequate labeling in this lab to make sure the graders know what your plots correspond to! Otherwise, you may lose points.**"
   ]
  },
  {
   "cell_type": "code",
   "execution_count": null,
   "metadata": {},
   "outputs": [],
   "source": [
    "plt.figure()\n",
    "plt.plot(t,s,label='sine') #first argument is x-axis, second is y-axis, label is useful if we want a legend\n",
    "plt.plot(t,c,label='cosine') #labels are not always necessary\n",
    "plt.title('Sine and Cosine with f = 2Hz') #title\n",
    "plt.xlabel('Time (s)') #time\n",
    "plt.ylabel('Signal Value') #ylabel\n",
    "plt.legend() #legend that uses the \"label\" identifiers from above"
   ]
  },
  {
   "cell_type": "markdown",
   "metadata": {},
   "source": [
    "Having one plot with both signals is fine and good, but what if we want separate plots for each signal? Or what if we want them side-by-side as subplots?"
   ]
  },
  {
   "cell_type": "code",
   "execution_count": null,
   "metadata": {},
   "outputs": [],
   "source": [
    "plt.figure() #create separate figure\n",
    "plt.plot(t,s)\n",
    "plt.title('Sine')\n",
    "plt.xlabel('Time (s)')\n",
    "plt.ylabel('Sine Value')\n",
    "\n",
    "plt.figure() #create separate figure\n",
    "plt.plot(t,c,'r') #change color to red\n",
    "plt.title('Cosine')\n",
    "plt.xlabel('Time (s)')\n",
    "plt.ylabel('Cosine Value')\n",
    "\n",
    "#Subplots. Syntax looks different with multiple plots. Similar\n",
    "#syntax can be used for single plots also.\n",
    "plt.figure(figsize=(12,6)) #increase figure size for visibility, first argument is width, second is height\n",
    "plt.subplot(121) # 1 row, 2 columns, first plot\n",
    "plt.plot(t,s,'black')\n",
    "plt.title('Sine')\n",
    "plt.xlabel('Time (s)')\n",
    "plt.ylabel('Sine Value')\n",
    "plt.subplot(122) # 1 row, 2 columns, second plot\n",
    "plt.plot(t,c,'g')\n",
    "plt.title('Cosine')\n",
    "plt.xlabel('Time (s)')\n",
    "plt.ylabel('Cosine Value')"
   ]
  },
  {
   "cell_type": "markdown",
   "metadata": {},
   "source": [
    "Another plotting function we will find particularly useful in ECE 311 is $\\textrm{plt.stem()}$. This function provides discrete lines for every point in our signal. Be careful using stem when you have long signals as the plot can become cluttered. Thus, for longer signals (greater than length 30, roughly) $\\textrm{plt.plot()}$ is best."
   ]
  },
  {
   "cell_type": "code",
   "execution_count": null,
   "metadata": {},
   "outputs": [],
   "source": [
    "toy_signal = [1,4,-3,8,-4,7,9]\n",
    "x_vals = range(len(toy_signal)) #x-axis values\n",
    "plt.figure()\n",
    "plt.title('Gross Plot')\n",
    "plt.plot(x_vals,toy_signal) #this plot looks unnatural\n",
    "plt.xlabel('Index')\n",
    "plt.ylabel('Some units')\n",
    "\n",
    "#now let's try stem\n",
    "plt.figure()\n",
    "plt.title('Prettier Plot')\n",
    "plt.stem(x_vals,toy_signal) #pretty!\n",
    "plt.xlabel('Index')\n",
    "plt.ylabel('Some units')"
   ]
  },
  {
   "cell_type": "markdown",
   "metadata": {},
   "source": [
    "## Exercise 3:\n",
    "\n",
    "Make a list out of the numbers in your UIN, then display a stem plot of your UIN. Don't forget to put a title and axis labels (even though they don't necessarily make sense right now)!"
   ]
  },
  {
   "cell_type": "code",
   "execution_count": null,
   "metadata": {},
   "outputs": [],
   "source": [
    "# Code for Excercise 3 here.\n"
   ]
  },
  {
   "cell_type": "markdown",
   "metadata": {},
   "source": [
    "Now that we know how to do some plotting. Let's try loading and displaying an image. There are tons of different ways to load images with different libraries. For this lab, we will use skimage since it loads images directly to a numpy array, which we will find useful soon. Note the shape of the color and grayscale images in the below code cell."
   ]
  },
  {
   "cell_type": "code",
   "execution_count": null,
   "metadata": {},
   "outputs": [],
   "source": [
    "img_color = io.imread('test_image.jpg') #load as color image\n",
    "img_gray = io.imread('test_image.jpg',as_gray=True) #load in grayscale\n",
    "img_line = img_gray[100,:] #slice out the 100th row of the image\n",
    "print(type(img_color)) #verify its a numpy array\n",
    "#check out the height, width, and number of color channels for both color and grayscale images\n",
    "print('Color image shape:',img_color.shape) #height,width,color channels\n",
    "print('Grayscale image shape:',img_gray.shape) #height, width\n",
    "\n",
    "plt.figure(figsize=(15,6))\n",
    "plt.plot(range(img_gray.shape[1]),img_line)\n",
    "plt.title('Index 100 Row of Grayscale Image')\n",
    "plt.xlabel('Column')\n",
    "plt.ylabel('Pixel Intensity')"
   ]
  },
  {
   "cell_type": "markdown",
   "metadata": {},
   "source": [
    "Plotting the pixel data doesn't show us much, right? Let's actually show the images now!"
   ]
  },
  {
   "cell_type": "code",
   "execution_count": null,
   "metadata": {},
   "outputs": [],
   "source": [
    "plt.figure(figsize=(15,6))\n",
    "plt.subplot(121)\n",
    "plt.title('Ordinary Test Image - Color')\n",
    "plt.imshow(img_color)\n",
    "plt.subplot(122)\n",
    "plt.title('Ordinary Test Image - Grayscale')\n",
    "plt.imshow(img_gray,'gray') #tell matplotlib the image is grayscale"
   ]
  },
  {
   "cell_type": "markdown",
   "metadata": {},
   "source": [
    "Furthermore, it is important to note the discrete nature of each image. This image is at a very high resolution, but we may still zoom in to observe individual pixels as discrete blocks. The color image is composed of pixels with three values - red, green, and blue channels - while the grayscale image is composed of single values at each pixel. Thus, a color image is said to be three-dimensional (height, width, color channel) while grayscale images are said to be two-dimensional (height, width only). Let's zoom in to each image to see individual pixels. More precisely, let's check out the corgi's right eye."
   ]
  },
  {
   "cell_type": "code",
   "execution_count": null,
   "metadata": {},
   "outputs": [],
   "source": [
    "color_zoom_1 = img_color[475:,375:]\n",
    "gray_zoom_1 = img_gray[475:,375:]\n",
    "color_zoom_2 = color_zoom_1[200:450,200:600]\n",
    "gray_zoom_2 = gray_zoom_1[200:450,200:600]\n",
    "color_zoom_3 = color_zoom_2[35:75,255:300]\n",
    "gray_zoom_3 = gray_zoom_2[35:75,255:300]\n",
    "plt.figure(figsize=(15,9))\n",
    "plt.subplot(241) #two rows, four columns, first image\n",
    "plt.imshow(img_color)\n",
    "plt.title('Color - Original')\n",
    "plt.subplot(242) #two rows, four columns, second image\n",
    "plt.imshow(color_zoom_1)\n",
    "plt.title('Color - Zoom #1') #and so on...\n",
    "plt.subplot(243)\n",
    "plt.imshow(color_zoom_2)\n",
    "plt.title('Color - Zoom #2')\n",
    "plt.subplot(244)\n",
    "plt.imshow(color_zoom_3)\n",
    "plt.title('Color - Zoom #2')\n",
    "plt.subplot(245)\n",
    "plt.imshow(img_gray,'gray')\n",
    "plt.title('Grayscale - Original')\n",
    "plt.subplot(246)\n",
    "plt.imshow(gray_zoom_1,'gray')\n",
    "plt.title('Grayscale - Zoom #1')\n",
    "plt.subplot(247)\n",
    "plt.imshow(gray_zoom_2,'gray')\n",
    "plt.title('Grayscale - Zoom #2')\n",
    "plt.subplot(248)\n",
    "plt.imshow(gray_zoom_3,'gray')\n",
    "plt.title('Grayscale - Zoom #3')"
   ]
  },
  {
   "cell_type": "markdown",
   "metadata": {},
   "source": [
    "Note how we can see individual pixels as square blocks at the lowest resolution. It also looks like we can see an outline of the person who took the picture! Image forensics in Lab 1: amazing!"
   ]
  },
  {
   "cell_type": "markdown",
   "metadata": {},
   "source": [
    "## Exercise 4:\n",
    "\n",
    "Reading library and function documentation is an essential part of using Python. You cannot expect to memorize the usage of every function you use. Over the course of this semester, you should become more comfortable with referring to documentation. In this exercise, you will need to look at the documentation of a couple numpy functions to perform a simple image analysis task.\n",
    "\n",
    "a. We would like to plot each of the color channels of the original color image (contained in the variable ``img_color``). We may do this by creating three separate color images (with all three color channels) where only the channel of interest is filled in from the previous image. Therefore, we suggest you create each channel's image by first creating an array of zeros using $\\textrm{np.zeros()}$ with size matching the shape of ``img_color``. Then set the appropriate channel equal to the same channel in the original image using array slicing. Plot each channel's image in one figure using subplots.\n",
    "\n",
    "**A couple important notes/hints:**\n",
    "* You must set the data type to integer here to prevent plotting issues. Check the $\\textrm{np.zeros()}$ documentation on how to specify the correct data type. You may use the primitive \"int\" type here when specifying the data type.\n",
    "\n",
    "* The ``.shape`` attribute wil be helpful to retrieve the shape of a numpy array when specifying the desired shape for $\\textrm{np.zeros()}$.\n",
    "\n",
    "* Remember that using only a colon \":\" for a dimension in a numpy array gives you every value for that dimension.\n",
    "\n",
    "b. Print the sum of the values for each color channel using an appropriate numpy function (look this up!). Make sure it is clear which sum corresponds to each channel. Which color channel is strongest in our image? Does this make sense? Answer these questions in the following markdown cell (double click the cell to edit it and you can run it like a normal cell with Ctrl+Enter, etc. to \"publish\" the text)"
   ]
  },
  {
   "cell_type": "code",
   "execution_count": null,
   "metadata": {},
   "outputs": [],
   "source": [
    "#Code for Exercise 4.a:\n",
    "\n",
    "\n",
    "#Code for Exercise 4.b:\n",
    "\n"
   ]
  },
  {
   "cell_type": "markdown",
   "metadata": {},
   "source": [
    "Comments for 4.b here:\n",
    "\n"
   ]
  },
  {
   "cell_type": "markdown",
   "metadata": {},
   "source": [
    "We will also work with audio in this lab, so let's look at how we can load a .wav file and play back the audio we have loaded."
   ]
  },
  {
   "cell_type": "code",
   "execution_count": null,
   "metadata": {},
   "outputs": [],
   "source": [
    "fs, data = wavfile.read('audiofile.wav') #fs is sampling rate, data is the audio data\n",
    "\n",
    "print('Sampling rate is {} Hz'.format(fs))\n",
    "print('Audio data type: {}'.format(type(data)))\n",
    "print('Audio data shape: {}'.format(data.shape)) # number_samples x 2 channels, notice the second dimension indicates the channel\n",
    "\n",
    "#This audio file seems to be stereo; however, the two channels are nearly identical.\n",
    "#This is typically not true with stereo audio files!\n",
    "\n",
    "time = np.linspace(0,len(data)/fs,len(data)) #array for time values in audio file\n",
    "plt.figure(figsize = (15,6))\n",
    "plt.subplot(121)\n",
    "plt.title(\"'audiofile.wav' Left Channel\")\n",
    "plt.plot(time,data[:,0]) #left channel\n",
    "plt.xlabel('Time (s)')\n",
    "plt.ylabel('Left Channel')\n",
    "\n",
    "plt.subplot(122)\n",
    "plt.title(\"'audiofile.wav' Right Channel\")\n",
    "plt.plot(time,data[:,1]) #right channel\n",
    "plt.xlabel('Time (s)')\n",
    "plt.ylabel('Right Channel')"
   ]
  },
  {
   "cell_type": "markdown",
   "metadata": {},
   "source": [
    "Let's try listening to both audio channels. Make sure to start your volume low and be mindful of those around you!"
   ]
  },
  {
   "cell_type": "code",
   "execution_count": null,
   "metadata": {},
   "outputs": [],
   "source": [
    "Audio(data=[data[:,0],data[:,1]],rate=fs)"
   ]
  },
  {
   "cell_type": "markdown",
   "metadata": {},
   "source": [
    "## Exercise 5\n",
    "\n",
    "For this exercise, try changing the sampling rate on the audio when using $\\textrm{Audio()}$. Try different values of $f_s$ from 0.5$\\cdot f_s$ to 2$\\cdot f_s$ where $f_s$ is the original 44,100 Hz sampling rate. The code has been provided for you in the next cell. Play around with it and answer the questions in the following markdown cell."
   ]
  },
  {
   "cell_type": "code",
   "execution_count": null,
   "metadata": {},
   "outputs": [],
   "source": [
    "rate_factor = 0.5\n",
    "Audio(data=[data[:,0],data[:,1]], rate=fs*rate_factor)"
   ]
  },
  {
   "cell_type": "markdown",
   "metadata": {},
   "source": [
    "Answers for Exercise 5 here:\n",
    "\n",
    "a) What do you hear when you reduce the sampling frequency? How about when you increase the sampling frequency?\n",
    "\n",
    "\n",
    "b) Do you hear a different name based on the sampling frequency? If so, what is your guess as to why this is true? Don't worry about being correct here! I want your best guess, and we will explore the answer to this question in a future lab.\n",
    "\n"
   ]
  },
  {
   "cell_type": "markdown",
   "metadata": {},
   "source": [
    "## Submission Instructions\n",
    "\n",
    "Make sure to place all image and data files along with your .ipynb lab report (this file) in one folder, zip the folder, and submit it to Compass under the Lab 1 Assignment. **Please name the zip file and your lab report ``<netid>_Lab1`` to make grading easier!**"
   ]
  }
 ],
 "metadata": {
  "kernelspec": {
   "display_name": "Python 3",
   "language": "python",
   "name": "python3"
  },
  "language_info": {
   "codemirror_mode": {
    "name": "ipython",
    "version": 3
   },
   "file_extension": ".py",
   "mimetype": "text/x-python",
   "name": "python",
   "nbconvert_exporter": "python",
   "pygments_lexer": "ipython3",
   "version": "3.6.8"
  }
 },
 "nbformat": 4,
 "nbformat_minor": 2
}
